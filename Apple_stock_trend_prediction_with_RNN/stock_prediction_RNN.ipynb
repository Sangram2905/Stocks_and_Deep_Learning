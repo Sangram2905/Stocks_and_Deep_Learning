{
  "nbformat": 4,
  "nbformat_minor": 0,
  "metadata": {
    "colab": {
      "name": "stock_prediction_RNN.ipynb",
      "provenance": [],
      "collapsed_sections": [],
      "toc_visible": true
    },
    "kernelspec": {
      "name": "python3",
      "display_name": "Python 3"
    }
  },
  "cells": [
    {
      "cell_type": "markdown",
      "metadata": {
        "id": "37puETfgRzzg",
        "colab_type": "text"
      },
      "source": [
        "# Data Preprocessing"
      ]
    },
    {
      "cell_type": "markdown",
      "metadata": {
        "id": "EoRP98MpR-qj",
        "colab_type": "text"
      },
      "source": [
        "## Importing the libraries"
      ]
    },
    {
      "cell_type": "code",
      "metadata": {
        "id": "8UxKVijKwduh",
        "colab_type": "code",
        "colab": {}
      },
      "source": [
        "import numpy as np\n",
        "import pandas as pd\n",
        "import matplotlib.pyplot as plt"
      ],
      "execution_count": 1,
      "outputs": []
    },
    {
      "cell_type": "markdown",
      "metadata": {
        "id": "RopL7tUZSQkT",
        "colab_type": "text"
      },
      "source": [
        "## Importing the dataset"
      ]
    },
    {
      "cell_type": "markdown",
      "metadata": {
        "id": "bBOpDiAHwvws",
        "colab_type": "text"
      },
      "source": [
        "###Install yahoo finance library"
      ]
    },
    {
      "cell_type": "code",
      "metadata": {
        "id": "P3ldeUbbwlii",
        "colab_type": "code",
        "colab": {}
      },
      "source": [
        "!pip install yfinance"
      ],
      "execution_count": null,
      "outputs": []
    },
    {
      "cell_type": "markdown",
      "metadata": {
        "id": "TewvgPjPxPou",
        "colab_type": "text"
      },
      "source": [
        "### Import dataset from yahoo finance"
      ]
    },
    {
      "cell_type": "code",
      "metadata": {
        "id": "JKy1V3ByxWGs",
        "colab_type": "code",
        "colab": {}
      },
      "source": [
        "import yfinance as yf\n",
        "dataset = yf.download('AAPL', start='2010-01-01', end='2020-01-01')"
      ],
      "execution_count": null,
      "outputs": []
    },
    {
      "cell_type": "code",
      "metadata": {
        "id": "p-aM7AXcySMW",
        "colab_type": "code",
        "colab": {}
      },
      "source": [
        "dataset.head()"
      ],
      "execution_count": null,
      "outputs": []
    },
    {
      "cell_type": "markdown",
      "metadata": {
        "id": "sm1DAlg-90G3",
        "colab_type": "text"
      },
      "source": [
        "## Checking for Missing values"
      ]
    },
    {
      "cell_type": "code",
      "metadata": {
        "id": "VncCR1c1zaR8",
        "colab_type": "code",
        "colab": {}
      },
      "source": [
        "import missingno as msno\n",
        "msno.matrix(dataset)\n",
        "print('Data columns with null value(s): ', dataset.isnull().sum(), sep='\\n')"
      ],
      "execution_count": null,
      "outputs": []
    },
    {
      "cell_type": "markdown",
      "metadata": {
        "id": "SscHICX80bsw",
        "colab_type": "text"
      },
      "source": [
        "## New product release"
      ]
    },
    {
      "cell_type": "code",
      "metadata": {
        "id": "c0dfdlyv0fMV",
        "colab_type": "code",
        "colab": {}
      },
      "source": [
        "new_product = np.zeros(len(dataset.axes[0]))\n",
        "\n",
        "# The below dates only include iPhone, iPad, and Apple Watch releases.\n",
        "# Source: https://en.wikipedia.org/wiki/Timeline_of_Apple_Inc._products\n",
        "new_product_release_dates = ['2010-04-3', '2010-04-30', '2010-06-24', '2010-09-1',\n",
        "                             '2011-02-10', '2011-03-11', '2011-10-14',\n",
        "                             '2012-03-16', '2012-09-21', '2012-11-02', '2012-11-16',\n",
        "                             '2013-09-20', '2013-11-01', '2013-11-12',\n",
        "                             '2014-11-18', '2014-09-19', '2014-10-22',\n",
        "                             '2015-04-24', '2015-09-09', '2015-09-25', '2015-11-11',\n",
        "                             '2016-03-31', '2016-09-07', '2016-09-07', '2016-09-16', '2016-10-28', '2016-12-19',\n",
        "                             '2017-03-21', '2017-03-24', '2017-06-05', '2017-09-22', '2017-11-03',\n",
        "                             '2018-03-27', '2018-09-21', '2018-10-26', '2018-10-30', '2018-11-07',\n",
        "                             '2019-03-18', '2019-03-20', '2019-09-20', '2019-09-25', '2019-12-10']\n",
        "\n",
        "# July 24th, 2020 is the expected release date of Apple iPhone 12\n",
        "new_product_release_data_in_2020 = ['2020-03-18', '2020-04-24', '2020-07-24']\n",
        "\n",
        "for i in range(0,len(dataset.axes[0])):\n",
        "  if dataset.iloc[i, 0] in new_product_release_dates:\n",
        "    new_product[i] = 1"
      ],
      "execution_count": 6,
      "outputs": []
    },
    {
      "cell_type": "code",
      "metadata": {
        "id": "fFl09cYk0PkC",
        "colab_type": "code",
        "colab": {}
      },
      "source": [
        "dataset['new product'] = new_product"
      ],
      "execution_count": null,
      "outputs": []
    },
    {
      "cell_type": "markdown",
      "metadata": {
        "id": "IGIq6_Fm-PDS",
        "colab_type": "text"
      },
      "source": [
        "## Get training set"
      ]
    },
    {
      "cell_type": "code",
      "metadata": {
        "id": "Ou-JVbzt-d78",
        "colab_type": "code",
        "colab": {}
      },
      "source": [
        "training_set = dataset.iloc[:, :].values"
      ],
      "execution_count": 10,
      "outputs": []
    },
    {
      "cell_type": "markdown",
      "metadata": {
        "id": "_Wq4Lw85Crpb",
        "colab_type": "text"
      },
      "source": [
        "## Feature Scaling"
      ]
    },
    {
      "cell_type": "code",
      "metadata": {
        "id": "9hkfQlKVCvrC",
        "colab_type": "code",
        "colab": {}
      },
      "source": [
        "from sklearn.preprocessing import MinMaxScaler\n",
        "sc = MinMaxScaler(feature_range = (0, 1))\n",
        "train_scaled = sc.fit_transform(training_set)"
      ],
      "execution_count": 12,
      "outputs": []
    },
    {
      "cell_type": "markdown",
      "metadata": {
        "id": "TpGqbS4TqkIR",
        "colab_type": "text"
      },
      "source": [
        "## Creating a data structure with 60 time steps and 1 output"
      ]
    },
    {
      "cell_type": "code",
      "metadata": {
        "id": "zbEr2MA1DSZK",
        "colab_type": "code",
        "colab": {}
      },
      "source": [
        "X_train = []\n",
        "y_train = []\n",
        "\n",
        "n_past = 60 #number of days in the past we want to take under consideration\n",
        "n_future = 1 #number of days we want to predict in the future\n",
        "\n",
        "for i in range(n_past, len(train_scaled) - n_future + 1):\n",
        "  X_train.append(train_scaled[i - n_past:i, :])\n",
        "  y_train.append(train_scaled[i + n_future - 1:i + n_future, 0])\n",
        "\n",
        "X_train, y_train = np.array(X_train), np.array(y_train)"
      ],
      "execution_count": 13,
      "outputs": []
    },
    {
      "cell_type": "code",
      "metadata": {
        "id": "dAuFTvlDSO5L",
        "colab_type": "code",
        "colab": {
          "base_uri": "https://localhost:8080/",
          "height": 34
        },
        "outputId": "7c317a7c-8bfd-4942-d11a-a4127c6ae566"
      },
      "source": [
        "X_train.shape"
      ],
      "execution_count": 14,
      "outputs": [
        {
          "output_type": "execute_result",
          "data": {
            "text/plain": [
              "(2456, 60, 7)"
            ]
          },
          "metadata": {
            "tags": []
          },
          "execution_count": 14
        }
      ]
    },
    {
      "cell_type": "markdown",
      "metadata": {
        "id": "TM9NoQbZEbJK",
        "colab_type": "text"
      },
      "source": [
        "# Build the RNN"
      ]
    },
    {
      "cell_type": "code",
      "metadata": {
        "id": "WXT-EKRhIufd",
        "colab_type": "code",
        "colab": {
          "base_uri": "https://localhost:8080/",
          "height": 34
        },
        "outputId": "7cb2052c-690a-4c7d-b8ed-6274190f3bcb"
      },
      "source": [
        "from keras.models import Sequential\n",
        "from keras.layers import Dense, LSTM, Dropout"
      ],
      "execution_count": 15,
      "outputs": [
        {
          "output_type": "stream",
          "text": [
            "Using TensorFlow backend.\n"
          ],
          "name": "stderr"
        }
      ]
    },
    {
      "cell_type": "code",
      "metadata": {
        "id": "WvXmtFjsI4LO",
        "colab_type": "code",
        "colab": {}
      },
      "source": [
        "regressor = Sequential()"
      ],
      "execution_count": 16,
      "outputs": []
    },
    {
      "cell_type": "markdown",
      "metadata": {
        "id": "aAeh_2rfI9Mj",
        "colab_type": "text"
      },
      "source": [
        "## Add four LSTM layers and dropout regularisation"
      ]
    },
    {
      "cell_type": "code",
      "metadata": {
        "id": "t_CbUyPUJGVD",
        "colab_type": "code",
        "colab": {}
      },
      "source": [
        "regressor.add(LSTM(units = 50, return_sequences = True, input_shape = (X_train.shape[1], 7)))\n",
        "regressor.add(Dropout(0.2))"
      ],
      "execution_count": 17,
      "outputs": []
    },
    {
      "cell_type": "code",
      "metadata": {
        "id": "117WvmC6JeX-",
        "colab_type": "code",
        "colab": {}
      },
      "source": [
        "regressor.add(LSTM(units = 50, return_sequences = True))\n",
        "regressor.add(Dropout(0.2))"
      ],
      "execution_count": 18,
      "outputs": []
    },
    {
      "cell_type": "code",
      "metadata": {
        "id": "MZ8I_g0EJjqf",
        "colab_type": "code",
        "colab": {}
      },
      "source": [
        "regressor.add(LSTM(units = 50, return_sequences = True))\n",
        "regressor.add(Dropout(0.2))"
      ],
      "execution_count": 19,
      "outputs": []
    },
    {
      "cell_type": "code",
      "metadata": {
        "id": "ABYeEnozJj2j",
        "colab_type": "code",
        "colab": {}
      },
      "source": [
        "regressor.add(LSTM(units = 50, return_sequences = False))\n",
        "regressor.add(Dropout(0.2))"
      ],
      "execution_count": 20,
      "outputs": []
    },
    {
      "cell_type": "markdown",
      "metadata": {
        "id": "17FlRIdRJmms",
        "colab_type": "text"
      },
      "source": [
        "## Add the output layer"
      ]
    },
    {
      "cell_type": "code",
      "metadata": {
        "id": "XNUxnTi_JpSx",
        "colab_type": "code",
        "colab": {}
      },
      "source": [
        "regressor.add(Dense(units = 1))"
      ],
      "execution_count": 21,
      "outputs": []
    },
    {
      "cell_type": "markdown",
      "metadata": {
        "id": "SFg5h6KgJ1TP",
        "colab_type": "text"
      },
      "source": [
        "## Compiling the RNN"
      ]
    },
    {
      "cell_type": "code",
      "metadata": {
        "id": "k1loq-yuJ3bS",
        "colab_type": "code",
        "colab": {}
      },
      "source": [
        "regressor.compile(optimizer = 'adam', loss = 'mean_squared_error')"
      ],
      "execution_count": 22,
      "outputs": []
    },
    {
      "cell_type": "markdown",
      "metadata": {
        "id": "vTeEvCt8J-3H",
        "colab_type": "text"
      },
      "source": [
        "## Fitting RNN to training set"
      ]
    },
    {
      "cell_type": "code",
      "metadata": {
        "id": "qtf0eHNlT6fh",
        "colab_type": "code",
        "colab": {}
      },
      "source": [
        "from keras.callbacks import EarlyStopping, ReduceLROnPlateau, ModelCheckpoint, TensorBoard\n",
        "\n",
        "es = EarlyStopping(monitor='val_loss', min_delta=1e-10, patience=10, verbose=1)\n",
        "rlr = ReduceLROnPlateau(monitor='val_loss', factor=0.5, patience=5, verbose=1)\n",
        "mcp = ModelCheckpoint(filepath='weights.h5', monitor='val_loss', verbose=1, save_best_only=True, save_weights_only=True)\n",
        "tb = TensorBoard('logs')\n",
        "\n",
        "history = regressor.fit(X_train, y_train, shuffle=True,\n",
        "                        epochs=25, callbacks=[es, rlr,mcp, tb], validation_split=0.2, verbose=1, batch_size=64)"
      ],
      "execution_count": null,
      "outputs": []
    },
    {
      "cell_type": "markdown",
      "metadata": {
        "id": "vrwJTs29Y7_r",
        "colab_type": "text"
      },
      "source": [
        "# Making predictions"
      ]
    },
    {
      "cell_type": "markdown",
      "metadata": {
        "id": "1hHZZ6BNeMAf",
        "colab_type": "text"
      },
      "source": [
        "## Get real price"
      ]
    },
    {
      "cell_type": "code",
      "metadata": {
        "id": "_yDxgxHIbob2",
        "colab_type": "code",
        "colab": {}
      },
      "source": [
        "dataset_test = yf.download('AAPL', start='2020-01-01', end='2020-07-01')\n",
        "real_stock_price = dataset_test.iloc[:, 1:2].values"
      ],
      "execution_count": null,
      "outputs": []
    },
    {
      "cell_type": "markdown",
      "metadata": {
        "id": "lskI24RchddQ",
        "colab_type": "text"
      },
      "source": [
        "## Add new product release date to real price"
      ]
    },
    {
      "cell_type": "code",
      "metadata": {
        "id": "lzwciz2Vhcd3",
        "colab_type": "code",
        "colab": {}
      },
      "source": [
        "new_product_2020 = np.zeros(len(dataset_test))\n",
        "for i in range(0,len(dataset_test.axes[0])):\n",
        "  if dataset_test.iloc[i, 0] in new_product_release_data_in_2020:\n",
        "    new_product_2020[i] = 1"
      ],
      "execution_count": 25,
      "outputs": []
    },
    {
      "cell_type": "code",
      "metadata": {
        "id": "njNSDXM2io2s",
        "colab_type": "code",
        "colab": {}
      },
      "source": [
        "dataset_test['new product'] = new_product_2020"
      ],
      "execution_count": 26,
      "outputs": []
    },
    {
      "cell_type": "code",
      "metadata": {
        "id": "wuBEFPcjtcBz",
        "colab_type": "code",
        "colab": {
          "base_uri": "https://localhost:8080/",
          "height": 34
        },
        "outputId": "a44b3ec0-5b74-4288-e497-f3f25ee767c7"
      },
      "source": [
        "dataset_test.shape"
      ],
      "execution_count": 37,
      "outputs": [
        {
          "output_type": "execute_result",
          "data": {
            "text/plain": [
              "(125, 7)"
            ]
          },
          "metadata": {
            "tags": []
          },
          "execution_count": 37
        }
      ]
    },
    {
      "cell_type": "markdown",
      "metadata": {
        "id": "ZnSBu3QJevM2",
        "colab_type": "text"
      },
      "source": [
        "## Get predicted price"
      ]
    },
    {
      "cell_type": "code",
      "metadata": {
        "id": "l1U1hXbCgU95",
        "colab_type": "code",
        "colab": {}
      },
      "source": [
        "dataset_total = pd.concat((dataset, dataset_test), axis = 0)"
      ],
      "execution_count": 28,
      "outputs": []
    },
    {
      "cell_type": "code",
      "metadata": {
        "id": "fLyly8FNjOjC",
        "colab_type": "code",
        "colab": {}
      },
      "source": [
        "inputs = dataset_total[(len(dataset_total) - len(dataset_test) - n_past):].values\n",
        "inputs = sc.transform(inputs)"
      ],
      "execution_count": 30,
      "outputs": []
    },
    {
      "cell_type": "code",
      "metadata": {
        "id": "EUkhGlRbhELd",
        "colab_type": "code",
        "colab": {}
      },
      "source": [
        "X_test = []\n",
        "for i in range(n_past, n_past + len(dataset_test)):\n",
        "  X_test.append(inputs[i - n_past:i, :])\n",
        "X_test = np.array(X_test)"
      ],
      "execution_count": 60,
      "outputs": []
    },
    {
      "cell_type": "code",
      "metadata": {
        "id": "0yxU-wXqtp7L",
        "colab_type": "code",
        "colab": {}
      },
      "source": [
        "predicted_stock_price = regressor.predict(X_test)"
      ],
      "execution_count": 67,
      "outputs": []
    },
    {
      "cell_type": "code",
      "metadata": {
        "id": "mxDJ3RyY3wkU",
        "colab_type": "code",
        "colab": {}
      },
      "source": [
        "from sklearn.preprocessing import StandardScaler\n",
        "sc_predict = StandardScaler()\n",
        "sc_predict.fit_transform(training_set[:,0:1])\n",
        "\n",
        "predicted_stock_price = sc_predict.inverse_transform(predicted_stock_price)"
      ],
      "execution_count": null,
      "outputs": []
    },
    {
      "cell_type": "markdown",
      "metadata": {
        "id": "Cc2udBupwiOM",
        "colab_type": "text"
      },
      "source": [
        "# Visualize"
      ]
    },
    {
      "cell_type": "code",
      "metadata": {
        "id": "EHgbd0Utwd17",
        "colab_type": "code",
        "colab": {
          "base_uri": "https://localhost:8080/",
          "height": 295
        },
        "outputId": "c3b37751-8fb7-4b64-f1f7-fe927448fd64"
      },
      "source": [
        "plt.plot(real_stock_price, color='red', label='Real Apple stock price')\n",
        "plt.plot(predicted_stock_price, color='blue', label='Predicted Apple stock price')\n",
        "plt.title('Real vs Predicted (by RNN) stock trend comparison')\n",
        "plt.xlabel('Days')\n",
        "plt.ylabel('Price')\n",
        "plt.legend()\n",
        "plt.show()"
      ],
      "execution_count": 71,
      "outputs": [
        {
          "output_type": "display_data",
          "data": {
            "image/png": "[encoded data removed]",
            "text/plain": [
              "<Figure size 432x288 with 1 Axes>"
            ]
          },
          "metadata": {
            "tags": [],
            "needs_background": "light"
          }
        }
      ]
    }
  ]
}